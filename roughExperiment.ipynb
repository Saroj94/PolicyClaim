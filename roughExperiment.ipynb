{
 "cells": [
  {
   "cell_type": "code",
   "execution_count": 1,
   "metadata": {},
   "outputs": [],
   "source": [
    "import pandas as pd"
   ]
  },
  {
   "cell_type": "code",
   "execution_count": 2,
   "metadata": {},
   "outputs": [
    {
     "name": "stdout",
     "output_type": "stream",
     "text": [
      "['380df', '67as']\n",
      "['4545er', '78fg']\n",
      "['345667qw', '898rt']\n"
     ]
    }
   ],
   "source": [
    "#Experiment\n",
    "import re\n",
    "df1=pd.DataFrame({'Name':['380df#67as','4545er#78fg','345667qw#898rt']})\n",
    "l=df1['Name']\n",
    "box=[]\n",
    "for i in l:\n",
    "    x=i.split('#')\n",
    "    box.append(x)\n",
    "    print(x)"
   ]
  },
  {
   "cell_type": "code",
   "execution_count": 4,
   "metadata": {},
   "outputs": [
    {
     "data": {
      "text/html": [
       "<div>\n",
       "<style scoped>\n",
       "    .dataframe tbody tr th:only-of-type {\n",
       "        vertical-align: middle;\n",
       "    }\n",
       "\n",
       "    .dataframe tbody tr th {\n",
       "        vertical-align: top;\n",
       "    }\n",
       "\n",
       "    .dataframe thead th {\n",
       "        text-align: right;\n",
       "    }\n",
       "</style>\n",
       "<table border=\"1\" class=\"dataframe\">\n",
       "  <thead>\n",
       "    <tr style=\"text-align: right;\">\n",
       "      <th></th>\n",
       "      <th>dx_column</th>\n",
       "    </tr>\n",
       "  </thead>\n",
       "  <tbody>\n",
       "    <tr>\n",
       "      <th>0</th>\n",
       "      <td>380</td>\n",
       "    </tr>\n",
       "    <tr>\n",
       "      <th>1</th>\n",
       "      <td>67</td>\n",
       "    </tr>\n",
       "    <tr>\n",
       "      <th>2</th>\n",
       "      <td>4545</td>\n",
       "    </tr>\n",
       "    <tr>\n",
       "      <th>3</th>\n",
       "      <td>78</td>\n",
       "    </tr>\n",
       "  </tbody>\n",
       "</table>\n",
       "</div>"
      ],
      "text/plain": [
       "  dx_column\n",
       "0       380\n",
       "1        67\n",
       "2      4545\n",
       "3        78"
      ]
     },
     "execution_count": 4,
     "metadata": {},
     "output_type": "execute_result"
    }
   ],
   "source": [
    "##experiment: removing string from a list of string values and converting into data frame\n",
    "ls=['380df', '67as','4545er', '78fg']\n",
    "dx=[]\n",
    "for i in ls:\n",
    "    d=re.findall(r'\\d+',i)\n",
    "    dx.append(d)\n",
    "\n",
    "## wraping into the dataframe\n",
    "df=pd.DataFrame(dx, columns=['dx_column'])\n",
    "df"
   ]
  },
  {
   "cell_type": "code",
   "execution_count": null,
   "metadata": {},
   "outputs": [],
   "source": [
    "#df_final[['rt','lft','sd']]=pd.DataFrame(list(map(lambda x: re.findall(r'\\d+',x), df_final['max_power'].to_list())))"
   ]
  },
  {
   "cell_type": "code",
   "execution_count": null,
   "metadata": {},
   "outputs": [],
   "source": [
    "import pandas as pd\n",
    "import re\n",
    "\n",
    "def FeatureExtract(data: pd.DataFrame, feat: str, RColName: str, LColName: str) -> pd.DataFrame:\n",
    "    # Split the 'feat' column into two parts: left and right based on '@'\n",
    "    dfd = list(map(lambda x: x.split('@'), data[feat]))\n",
    "    \n",
    "    # Assign split parts to two new columns in the original data\n",
    "    data[[RColName, LColName]] = pd.DataFrame(dfd, columns=[RColName, LColName], index=data.index)\n",
    "    \n",
    "    # Extract numeric parts from 'RColName' and 'LColName' using re.findall\n",
    "    data[RColName] = data[RColName].apply(lambda x: int(re.findall(r'\\d+', x)[0]))  # Extract first number\n",
    "    data[LColName] = data[LColName].apply(lambda x: int(re.findall(r'\\d+', x)[0]))  # Extract first number\n",
    "    \n",
    "    return data\n",
    "\n",
    "# Example usage:\n",
    "df = pd.DataFrame({\n",
    "    'max_torque': ['60Nm@3500rpm', '70Nm@4000rpm'],\n",
    "    'other_column': [1, 2]\n",
    "})\n",
    "\n",
    "# Call the function\n",
    "df = FeatureExtract(df, 'max_torque', 'MaxRpm', 'MaxTor')"
   ]
  }
 ],
 "metadata": {
  "kernelspec": {
   "display_name": "myenv",
   "language": "python",
   "name": "python3"
  },
  "language_info": {
   "codemirror_mode": {
    "name": "ipython",
    "version": 3
   },
   "file_extension": ".py",
   "mimetype": "text/x-python",
   "name": "python",
   "nbconvert_exporter": "python",
   "pygments_lexer": "ipython3",
   "version": "3.12.4"
  }
 },
 "nbformat": 4,
 "nbformat_minor": 2
}
