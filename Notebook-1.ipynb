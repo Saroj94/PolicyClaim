{
    "metadata": {
        "kernelspec": {
            "name": "SQL",
            "display_name": "SQL",
            "language": "sql"
        },
        "language_info": {
            "name": "sql",
            "version": ""
        }
    },
    "nbformat_minor": 2,
    "nbformat": 4,
    "cells": [
        {
            "cell_type": "markdown",
            "source": [
                "## **<span style=\"font-family: -apple-system, BlinkMacSystemFont, sans-serif; color: rgb(0, 0, 255);\">Basic</span> <span style=\"font-family: -apple-system, BlinkMacSystemFont, sans-serif; color: var(--vscode-foreground);\"> KPI Questions (</span><span style=\"font-family: -apple-system, BlinkMacSystemFont, sans-serif; color: rgb(9, 136, 90);\">5</span> <span style=\"font-family: -apple-system, BlinkMacSystemFont, sans-serif; color: var(--vscode-foreground);\"> Questions)</span>**\n",
                "\n",
                "These questions focus <span style=\"color: #0000ff;\">on</span> <span style=\"color: #0000ff;\">key</span> performance indicators (KPIs) <span style=\"color: #0000ff;\">and</span> overall trends.\n",
                "\n",
                "<span style=\"color: #09885a;\">1</span>. How many policyholders are <span style=\"color: #0000ff;\">in</span> the dataset?\n",
                "\n",
                "<span style=\"color: #09885a;\">2</span>. What <span style=\"color: #0000ff;\">is</span> the total <span style=\"color: #0000ff;\">number</span> <span style=\"color: #0000ff;\">of</span> claims filed <span style=\"color: #0000ff;\">in</span> the <span style=\"color: #0000ff;\">last</span> six months?\n",
                "\n",
                "<span style=\"color: #09885a;\">3</span>. What <span style=\"color: #0000ff;\">is</span> the claim rate (<span style=\"color: #0000ff;\">percentage</span> <span style=\"color: #0000ff;\">of</span> policies that resulted <span style=\"color: #0000ff;\">in</span> a claim)?\n",
                "\n",
                "<span style=\"color: #09885a;\">4</span>. What <span style=\"color: #0000ff;\">is</span> the average age <span style=\"color: #0000ff;\">of</span> policyholders <span style=\"color: #0000ff;\">and</span> their cars?\n",
                "\n",
                "<span style=\"color: #09885a;\">5</span>. What <span style=\"color: #0000ff;\">is</span> the <span style=\"color: #0000ff;\">distribution</span> <span style=\"color: #0000ff;\">of</span> fuel <span style=\"color: #0000ff;\">types</span> among policyholders?"
            ],
            "metadata": {
                "language": "sql",
                "azdata_cell_guid": "2c436d60-4325-446f-ab75-878d5c612310"
            },
            "attachments": {}
        },
        {
            "cell_type": "code",
            "source": [
                "--1. How many policyholders are in the dataset?\n",
                "SELECT DISTINCT COUNT(*)\n",
                "FROM dbo.PolicyClaim"
            ],
            "metadata": {
                "azdata_cell_guid": "c141c21b-01db-4739-b2fa-c4b3d48aa794",
                "language": "sql"
            },
            "outputs": [
                {
                    "output_type": "display_data",
                    "data": {
                        "text/html": "(1 row affected)"
                    },
                    "metadata": {}
                },
                {
                    "output_type": "display_data",
                    "data": {
                        "text/html": "Total execution time: 00:00:00.059"
                    },
                    "metadata": {}
                },
                {
                    "output_type": "execute_result",
                    "execution_count": 1,
                    "data": {
                        "application/vnd.dataresource+json": {
                            "schema": {
                                "fields": [
                                    {
                                        "name": "(No column name)"
                                    }
                                ]
                            },
                            "data": [
                                {
                                    "(No column name)": "58592"
                                }
                            ]
                        },
                        "text/html": "<table><tr><th>(No column name)</th></tr><tr><td>58592</td></tr></table>"
                    },
                    "metadata": {}
                }
            ],
            "execution_count": 1
        },
        {
            "cell_type": "code",
            "source": [
                "--2. What is the total number of claims filed in the last six months?\n",
                "SELECT COUNT(*) \n",
                "FROM dbo.PolicyClaim\n",
                "WHERE is_claim = '1'"
            ],
            "metadata": {
                "language": "sql",
                "azdata_cell_guid": "09f39306-4ca3-4bc0-aac5-e03a1139fad1"
            },
            "outputs": [
                {
                    "output_type": "display_data",
                    "data": {
                        "text/html": "(1 row affected)"
                    },
                    "metadata": {}
                },
                {
                    "output_type": "display_data",
                    "data": {
                        "text/html": "Total execution time: 00:00:00.087"
                    },
                    "metadata": {}
                },
                {
                    "output_type": "execute_result",
                    "execution_count": 3,
                    "data": {
                        "application/vnd.dataresource+json": {
                            "schema": {
                                "fields": [
                                    {
                                        "name": "(No column name)"
                                    }
                                ]
                            },
                            "data": [
                                {
                                    "(No column name)": "3748"
                                }
                            ]
                        },
                        "text/html": "<table><tr><th>(No column name)</th></tr><tr><td>3748</td></tr></table>"
                    },
                    "metadata": {}
                }
            ],
            "execution_count": 3
        },
        {
            "cell_type": "code",
            "source": [
                "--3. What is the claim rate (percentage of policies that resulted in a claim)?\n",
                "WITH temp AS ( SELECT \n",
                "        COUNT(CASE WHEN is_claim = '0' THEN 1 END ) AS NotClaim,\n",
                "        COUNT(CASE WHEN is_claim ='1' THEN 1 END) AS Claim,\n",
                "        COUNT(*) AS TotalPolicy\n",
                "FROM dbo.PolicyClaim )\n",
                "\n",
                "SELECT *,\n",
                "\tROUND(CAST(Claim AS FLOAT)/CAST(TotalPolicy AS FLOAT),5)*100 AS ClaimRate\n",
                "FROM temp"
            ],
            "metadata": {
                "language": "sql",
                "azdata_cell_guid": "b1f80431-5204-428e-9dc4-1c3c6242956a",
                "tags": []
            },
            "outputs": [
                {
                    "output_type": "display_data",
                    "data": {
                        "text/html": "Warning: Null value is eliminated by an aggregate or other SET operation."
                    },
                    "metadata": {}
                },
                {
                    "output_type": "display_data",
                    "data": {
                        "text/html": "(1 row affected)"
                    },
                    "metadata": {}
                },
                {
                    "output_type": "display_data",
                    "data": {
                        "text/html": "Total execution time: 00:00:00.080"
                    },
                    "metadata": {}
                },
                {
                    "output_type": "execute_result",
                    "execution_count": 17,
                    "data": {
                        "application/vnd.dataresource+json": {
                            "schema": {
                                "fields": [
                                    {
                                        "name": "NotClaim"
                                    },
                                    {
                                        "name": "Claim"
                                    },
                                    {
                                        "name": "TotalPolicy"
                                    },
                                    {
                                        "name": "ClaimRate"
                                    }
                                ]
                            },
                            "data": [
                                {
                                    "NotClaim": "54844",
                                    "Claim": "3748",
                                    "TotalPolicy": "58592",
                                    "ClaimRate": "6.397"
                                }
                            ]
                        },
                        "text/html": "<table><tr><th>NotClaim</th><th>Claim</th><th>TotalPolicy</th><th>ClaimRate</th></tr><tr><td>54844</td><td>3748</td><td>58592</td><td>6.397</td></tr></table>"
                    },
                    "metadata": {}
                }
            ],
            "execution_count": 17
        },
        {
            "cell_type": "code",
            "source": [
                "--4. What is the average age of policyholders and their cars?\n",
                "SELECT AVG(age_of_policyholder) AS AverageAge\n",
                "FROM PolicyClaim"
            ],
            "metadata": {
                "language": "sql",
                "azdata_cell_guid": "9668eea7-a36e-46e1-9ca3-9309c1f7f07e"
            },
            "outputs": [
                {
                    "output_type": "display_data",
                    "data": {
                        "text/html": "(1 row affected)"
                    },
                    "metadata": {}
                },
                {
                    "output_type": "display_data",
                    "data": {
                        "text/html": "Total execution time: 00:00:00.049"
                    },
                    "metadata": {}
                },
                {
                    "output_type": "execute_result",
                    "execution_count": 18,
                    "data": {
                        "application/vnd.dataresource+json": {
                            "schema": {
                                "fields": [
                                    {
                                        "name": "AverageAge"
                                    }
                                ]
                            },
                            "data": [
                                {
                                    "AverageAge": "0.4694200507814065"
                                }
                            ]
                        },
                        "text/html": "<table><tr><th>AverageAge</th></tr><tr><td>0.4694200507814065</td></tr></table>"
                    },
                    "metadata": {}
                }
            ],
            "execution_count": 18
        },
        {
            "cell_type": "code",
            "source": [
                "--5. What is the distribution of fuel types among policyholders?\n",
                "SELECT "
            ],
            "metadata": {
                "language": "sql",
                "azdata_cell_guid": "e8c597ca-fd02-4bca-8bdf-b7f1d281a585"
            },
            "outputs": [],
            "execution_count": null
        }
    ]
}